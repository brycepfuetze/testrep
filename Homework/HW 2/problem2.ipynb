{
 "cells": [
  {
   "cell_type": "markdown",
   "metadata": {},
   "source": [
    "***Problem 2***"
   ]
  },
  {
   "cell_type": "code",
   "execution_count": 1,
   "metadata": {},
   "outputs": [],
   "source": [
    "import numpy as np\n",
    "import pandas as pd"
   ]
  },
  {
   "cell_type": "code",
   "execution_count": 10,
   "metadata": {},
   "outputs": [],
   "source": [
    "Ainv = np.array([[1 - 10**-10, 1], [1 + 10**10, 1]])\n"
   ]
  },
  {
   "cell_type": "code",
   "execution_count": 19,
   "metadata": {},
   "outputs": [
    {
     "name": "stdout",
     "output_type": "stream",
     "text": [
      "[[-4.e-05]\n",
      " [ 1.e+05]]\n",
      "70710.67809037048\n"
     ]
    }
   ],
   "source": [
    "deltab = np.array([[1*10**-5],[-5*10**-5]])\n",
    "x = np.array([[1],[1]])\n",
    "prod = np.matmul(Ainv, deltab)\n",
    "normalized = np.linalg.norm(prod)\n",
    "rel = np.linalg.norm(x)\n",
    "print(prod)\n",
    "print(normalized/rel)"
   ]
  },
  {
   "cell_type": "code",
   "execution_count": 20,
   "metadata": {},
   "outputs": [
    {
     "name": "stdout",
     "output_type": "stream",
     "text": [
      "[[2.e-05]\n",
      " [1.e+05]]\n",
      "70710.6781327969\n"
     ]
    }
   ],
   "source": [
    "deltab = np.array([[1*10**-5],[1*10**-5]])\n",
    "prod = np.matmul(Ainv, deltab)\n",
    "normalized = np.linalg.norm(prod)\n",
    "print(prod)\n",
    "print(normalized/rel)"
   ]
  },
  {
   "cell_type": "code",
   "execution_count": null,
   "metadata": {},
   "outputs": [],
   "source": []
  },
  {
   "cell_type": "markdown",
   "metadata": {},
   "source": []
  }
 ],
 "metadata": {
  "kernelspec": {
   "display_name": "base",
   "language": "python",
   "name": "python3"
  },
  "language_info": {
   "codemirror_mode": {
    "name": "ipython",
    "version": 3
   },
   "file_extension": ".py",
   "mimetype": "text/x-python",
   "name": "python",
   "nbconvert_exporter": "python",
   "pygments_lexer": "ipython3",
   "version": "3.10.9"
  }
 },
 "nbformat": 4,
 "nbformat_minor": 2
}
