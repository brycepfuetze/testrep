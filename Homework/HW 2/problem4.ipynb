{
 "cells": [
  {
   "cell_type": "markdown",
   "metadata": {},
   "source": [
    "***Problem 4***"
   ]
  },
  {
   "cell_type": "code",
   "execution_count": 56,
   "metadata": {},
   "outputs": [],
   "source": [
    "import numpy as np\n",
    "import pandas as pd\n",
    "import plotly.express as px\n",
    "import plotly.graph_objs as go"
   ]
  },
  {
   "cell_type": "markdown",
   "metadata": {},
   "source": [
    "***Part a***"
   ]
  },
  {
   "cell_type": "code",
   "execution_count": 22,
   "metadata": {},
   "outputs": [
    {
     "name": "stdout",
     "output_type": "stream",
     "text": [
      "[0.         0.10471976 0.20943951 0.31415927 0.41887902 0.52359878\n",
      " 0.62831853 0.73303829 0.83775804 0.9424778  1.04719755 1.15191731\n",
      " 1.25663706 1.36135682 1.46607657 1.57079633 1.67551608 1.78023584\n",
      " 1.88495559 1.98967535 2.0943951  2.19911486 2.30383461 2.40855437\n",
      " 2.51327412 2.61799388 2.72271363 2.82743339 2.93215314 3.0368729\n",
      " 3.14159265]\n"
     ]
    }
   ],
   "source": [
    "t = np.linspace(0, np.pi, 31)\n",
    "print(t)"
   ]
  },
  {
   "cell_type": "code",
   "execution_count": 23,
   "metadata": {},
   "outputs": [
    {
     "name": "stdout",
     "output_type": "stream",
     "text": [
      "[ 1.00000000e+00  9.94521895e-01  9.78147601e-01  9.51056516e-01\n",
      "  9.13545458e-01  8.66025404e-01  8.09016994e-01  7.43144825e-01\n",
      "  6.69130606e-01  5.87785252e-01  5.00000000e-01  4.06736643e-01\n",
      "  3.09016994e-01  2.07911691e-01  1.04528463e-01  6.12323400e-17\n",
      " -1.04528463e-01 -2.07911691e-01 -3.09016994e-01 -4.06736643e-01\n",
      " -5.00000000e-01 -5.87785252e-01 -6.69130606e-01 -7.43144825e-01\n",
      " -8.09016994e-01 -8.66025404e-01 -9.13545458e-01 -9.51056516e-01\n",
      " -9.78147601e-01 -9.94521895e-01 -1.00000000e+00]\n"
     ]
    }
   ],
   "source": [
    "y = np.cos(t)\n",
    "print(y)"
   ]
  },
  {
   "cell_type": "code",
   "execution_count": 40,
   "metadata": {},
   "outputs": [
    {
     "name": "stdout",
     "output_type": "stream",
     "text": [
      "the sum is:  0.0\n",
      "the sum is:  0.10414608934410548\n",
      "the sum is:  0.3090088437835592\n",
      "the sum is:  0.6077920602577147\n",
      "the sum is:  0.9904570867177573\n",
      "the sum is:  1.443906927776312\n",
      "the sum is:  1.952227297007838\n",
      "the sum is:  2.4969809060048833\n",
      "the sum is:  3.057550451932636\n",
      "the sum is:  3.611525001079773\n",
      "the sum is:  4.135123776678072\n",
      "the sum is:  4.603650754950065\n",
      "the sum is:  4.991972962695159\n",
      "the sum is:  5.275014960231511\n",
      "the sum is:  5.428261691301434\n",
      "the sum is:  5.428261691301434\n",
      "the sum is:  5.2531225700786655\n",
      "the sum is:  4.882990727146513\n",
      "the sum is:  4.300507415528873\n",
      "the sum is:  3.4912335439681588\n",
      "the sum is:  2.4440359927715614\n",
      "the sum is:  1.151428711428242\n",
      "the sum is:  -0.3901375398730771\n",
      "the sum is:  -2.180042255149082\n",
      "the sum is:  -4.213323732075185\n",
      "the sum is:  -6.480572937367957\n",
      "the sum is:  -8.967895609358234\n",
      "the sum is:  -11.656944557625634\n",
      "the sum is:  -14.525023119777986\n",
      "the sum is:  -17.545259710757044\n",
      "the sum is:  -20.686852364346837\n"
     ]
    }
   ],
   "source": [
    "S = np.zeros([31,])\n",
    "Slast = 0\n",
    "product = 0\n",
    "\n",
    "for i in range(len(y)):\n",
    "    #print(i)\n",
    "    product = t[i] * y[i]\n",
    "    S[i] = product + Slast\n",
    "    Slast = S[i]\n",
    "    print(\"the sum is: \", S[i])\n"
   ]
  },
  {
   "cell_type": "code",
   "execution_count": 38,
   "metadata": {},
   "outputs": [
    {
     "data": {
      "application/vnd.plotly.v1+json": {
       "config": {
        "plotlyServerURL": "https://plot.ly"
       },
       "data": [
        {
         "hovertemplate": "x=%{x}<br>y=%{y}<extra></extra>",
         "legendgroup": "",
         "line": {
          "color": "#636efa",
          "dash": "solid"
         },
         "marker": {
          "symbol": "circle"
         },
         "mode": "lines",
         "name": "",
         "orientation": "v",
         "showlegend": false,
         "type": "scatter",
         "x": [
          0,
          0.10471975511965977,
          0.20943951023931953,
          0.3141592653589793,
          0.41887902047863906,
          0.5235987755982988,
          0.6283185307179586,
          0.7330382858376183,
          0.8377580409572781,
          0.9424777960769379,
          1.0471975511965976,
          1.1519173063162573,
          1.2566370614359172,
          1.361356816555577,
          1.4660765716752366,
          1.5707963267948966,
          1.6755160819145563,
          1.780235837034216,
          1.8849555921538759,
          1.9896753472735356,
          2.0943951023931953,
          2.199114857512855,
          2.3038346126325147,
          2.4085543677521746,
          2.5132741228718345,
          2.617993877991494,
          2.722713633111154,
          2.827433388230814,
          2.9321531433504733,
          3.036872898470133,
          3.141592653589793
         ],
         "xaxis": "x",
         "y": [
          0,
          0.10414608934410548,
          0.3090088437835592,
          0.6077920602577147,
          0.9904570867177573,
          1.443906927776312,
          1.952227297007838,
          2.4969809060048833,
          3.057550451932636,
          3.611525001079773,
          4.135123776678072,
          4.603650754950065,
          4.991972962695159,
          5.275014960231511,
          5.428261691301434,
          5.428261691301434,
          5.2531225700786655,
          4.882990727146513,
          4.300507415528873,
          3.4912335439681588,
          2.4440359927715614,
          1.151428711428242,
          -0.3901375398730771,
          -2.180042255149082,
          -4.213323732075185,
          -6.480572937367957,
          -8.967895609358234,
          -11.656944557625634,
          -14.525023119777986,
          -17.545259710757044,
          -20.686852364346837
         ],
         "yaxis": "y"
        }
       ],
       "layout": {
        "legend": {
         "tracegroupgap": 0
        },
        "margin": {
         "t": 60
        },
        "template": {
         "data": {
          "bar": [
           {
            "error_x": {
             "color": "#2a3f5f"
            },
            "error_y": {
             "color": "#2a3f5f"
            },
            "marker": {
             "line": {
              "color": "#E5ECF6",
              "width": 0.5
             },
             "pattern": {
              "fillmode": "overlay",
              "size": 10,
              "solidity": 0.2
             }
            },
            "type": "bar"
           }
          ],
          "barpolar": [
           {
            "marker": {
             "line": {
              "color": "#E5ECF6",
              "width": 0.5
             },
             "pattern": {
              "fillmode": "overlay",
              "size": 10,
              "solidity": 0.2
             }
            },
            "type": "barpolar"
           }
          ],
          "carpet": [
           {
            "aaxis": {
             "endlinecolor": "#2a3f5f",
             "gridcolor": "white",
             "linecolor": "white",
             "minorgridcolor": "white",
             "startlinecolor": "#2a3f5f"
            },
            "baxis": {
             "endlinecolor": "#2a3f5f",
             "gridcolor": "white",
             "linecolor": "white",
             "minorgridcolor": "white",
             "startlinecolor": "#2a3f5f"
            },
            "type": "carpet"
           }
          ],
          "choropleth": [
           {
            "colorbar": {
             "outlinewidth": 0,
             "ticks": ""
            },
            "type": "choropleth"
           }
          ],
          "contour": [
           {
            "colorbar": {
             "outlinewidth": 0,
             "ticks": ""
            },
            "colorscale": [
             [
              0,
              "#0d0887"
             ],
             [
              0.1111111111111111,
              "#46039f"
             ],
             [
              0.2222222222222222,
              "#7201a8"
             ],
             [
              0.3333333333333333,
              "#9c179e"
             ],
             [
              0.4444444444444444,
              "#bd3786"
             ],
             [
              0.5555555555555556,
              "#d8576b"
             ],
             [
              0.6666666666666666,
              "#ed7953"
             ],
             [
              0.7777777777777778,
              "#fb9f3a"
             ],
             [
              0.8888888888888888,
              "#fdca26"
             ],
             [
              1,
              "#f0f921"
             ]
            ],
            "type": "contour"
           }
          ],
          "contourcarpet": [
           {
            "colorbar": {
             "outlinewidth": 0,
             "ticks": ""
            },
            "type": "contourcarpet"
           }
          ],
          "heatmap": [
           {
            "colorbar": {
             "outlinewidth": 0,
             "ticks": ""
            },
            "colorscale": [
             [
              0,
              "#0d0887"
             ],
             [
              0.1111111111111111,
              "#46039f"
             ],
             [
              0.2222222222222222,
              "#7201a8"
             ],
             [
              0.3333333333333333,
              "#9c179e"
             ],
             [
              0.4444444444444444,
              "#bd3786"
             ],
             [
              0.5555555555555556,
              "#d8576b"
             ],
             [
              0.6666666666666666,
              "#ed7953"
             ],
             [
              0.7777777777777778,
              "#fb9f3a"
             ],
             [
              0.8888888888888888,
              "#fdca26"
             ],
             [
              1,
              "#f0f921"
             ]
            ],
            "type": "heatmap"
           }
          ],
          "heatmapgl": [
           {
            "colorbar": {
             "outlinewidth": 0,
             "ticks": ""
            },
            "colorscale": [
             [
              0,
              "#0d0887"
             ],
             [
              0.1111111111111111,
              "#46039f"
             ],
             [
              0.2222222222222222,
              "#7201a8"
             ],
             [
              0.3333333333333333,
              "#9c179e"
             ],
             [
              0.4444444444444444,
              "#bd3786"
             ],
             [
              0.5555555555555556,
              "#d8576b"
             ],
             [
              0.6666666666666666,
              "#ed7953"
             ],
             [
              0.7777777777777778,
              "#fb9f3a"
             ],
             [
              0.8888888888888888,
              "#fdca26"
             ],
             [
              1,
              "#f0f921"
             ]
            ],
            "type": "heatmapgl"
           }
          ],
          "histogram": [
           {
            "marker": {
             "pattern": {
              "fillmode": "overlay",
              "size": 10,
              "solidity": 0.2
             }
            },
            "type": "histogram"
           }
          ],
          "histogram2d": [
           {
            "colorbar": {
             "outlinewidth": 0,
             "ticks": ""
            },
            "colorscale": [
             [
              0,
              "#0d0887"
             ],
             [
              0.1111111111111111,
              "#46039f"
             ],
             [
              0.2222222222222222,
              "#7201a8"
             ],
             [
              0.3333333333333333,
              "#9c179e"
             ],
             [
              0.4444444444444444,
              "#bd3786"
             ],
             [
              0.5555555555555556,
              "#d8576b"
             ],
             [
              0.6666666666666666,
              "#ed7953"
             ],
             [
              0.7777777777777778,
              "#fb9f3a"
             ],
             [
              0.8888888888888888,
              "#fdca26"
             ],
             [
              1,
              "#f0f921"
             ]
            ],
            "type": "histogram2d"
           }
          ],
          "histogram2dcontour": [
           {
            "colorbar": {
             "outlinewidth": 0,
             "ticks": ""
            },
            "colorscale": [
             [
              0,
              "#0d0887"
             ],
             [
              0.1111111111111111,
              "#46039f"
             ],
             [
              0.2222222222222222,
              "#7201a8"
             ],
             [
              0.3333333333333333,
              "#9c179e"
             ],
             [
              0.4444444444444444,
              "#bd3786"
             ],
             [
              0.5555555555555556,
              "#d8576b"
             ],
             [
              0.6666666666666666,
              "#ed7953"
             ],
             [
              0.7777777777777778,
              "#fb9f3a"
             ],
             [
              0.8888888888888888,
              "#fdca26"
             ],
             [
              1,
              "#f0f921"
             ]
            ],
            "type": "histogram2dcontour"
           }
          ],
          "mesh3d": [
           {
            "colorbar": {
             "outlinewidth": 0,
             "ticks": ""
            },
            "type": "mesh3d"
           }
          ],
          "parcoords": [
           {
            "line": {
             "colorbar": {
              "outlinewidth": 0,
              "ticks": ""
             }
            },
            "type": "parcoords"
           }
          ],
          "pie": [
           {
            "automargin": true,
            "type": "pie"
           }
          ],
          "scatter": [
           {
            "fillpattern": {
             "fillmode": "overlay",
             "size": 10,
             "solidity": 0.2
            },
            "type": "scatter"
           }
          ],
          "scatter3d": [
           {
            "line": {
             "colorbar": {
              "outlinewidth": 0,
              "ticks": ""
             }
            },
            "marker": {
             "colorbar": {
              "outlinewidth": 0,
              "ticks": ""
             }
            },
            "type": "scatter3d"
           }
          ],
          "scattercarpet": [
           {
            "marker": {
             "colorbar": {
              "outlinewidth": 0,
              "ticks": ""
             }
            },
            "type": "scattercarpet"
           }
          ],
          "scattergeo": [
           {
            "marker": {
             "colorbar": {
              "outlinewidth": 0,
              "ticks": ""
             }
            },
            "type": "scattergeo"
           }
          ],
          "scattergl": [
           {
            "marker": {
             "colorbar": {
              "outlinewidth": 0,
              "ticks": ""
             }
            },
            "type": "scattergl"
           }
          ],
          "scattermapbox": [
           {
            "marker": {
             "colorbar": {
              "outlinewidth": 0,
              "ticks": ""
             }
            },
            "type": "scattermapbox"
           }
          ],
          "scatterpolar": [
           {
            "marker": {
             "colorbar": {
              "outlinewidth": 0,
              "ticks": ""
             }
            },
            "type": "scatterpolar"
           }
          ],
          "scatterpolargl": [
           {
            "marker": {
             "colorbar": {
              "outlinewidth": 0,
              "ticks": ""
             }
            },
            "type": "scatterpolargl"
           }
          ],
          "scatterternary": [
           {
            "marker": {
             "colorbar": {
              "outlinewidth": 0,
              "ticks": ""
             }
            },
            "type": "scatterternary"
           }
          ],
          "surface": [
           {
            "colorbar": {
             "outlinewidth": 0,
             "ticks": ""
            },
            "colorscale": [
             [
              0,
              "#0d0887"
             ],
             [
              0.1111111111111111,
              "#46039f"
             ],
             [
              0.2222222222222222,
              "#7201a8"
             ],
             [
              0.3333333333333333,
              "#9c179e"
             ],
             [
              0.4444444444444444,
              "#bd3786"
             ],
             [
              0.5555555555555556,
              "#d8576b"
             ],
             [
              0.6666666666666666,
              "#ed7953"
             ],
             [
              0.7777777777777778,
              "#fb9f3a"
             ],
             [
              0.8888888888888888,
              "#fdca26"
             ],
             [
              1,
              "#f0f921"
             ]
            ],
            "type": "surface"
           }
          ],
          "table": [
           {
            "cells": {
             "fill": {
              "color": "#EBF0F8"
             },
             "line": {
              "color": "white"
             }
            },
            "header": {
             "fill": {
              "color": "#C8D4E3"
             },
             "line": {
              "color": "white"
             }
            },
            "type": "table"
           }
          ]
         },
         "layout": {
          "annotationdefaults": {
           "arrowcolor": "#2a3f5f",
           "arrowhead": 0,
           "arrowwidth": 1
          },
          "autotypenumbers": "strict",
          "coloraxis": {
           "colorbar": {
            "outlinewidth": 0,
            "ticks": ""
           }
          },
          "colorscale": {
           "diverging": [
            [
             0,
             "#8e0152"
            ],
            [
             0.1,
             "#c51b7d"
            ],
            [
             0.2,
             "#de77ae"
            ],
            [
             0.3,
             "#f1b6da"
            ],
            [
             0.4,
             "#fde0ef"
            ],
            [
             0.5,
             "#f7f7f7"
            ],
            [
             0.6,
             "#e6f5d0"
            ],
            [
             0.7,
             "#b8e186"
            ],
            [
             0.8,
             "#7fbc41"
            ],
            [
             0.9,
             "#4d9221"
            ],
            [
             1,
             "#276419"
            ]
           ],
           "sequential": [
            [
             0,
             "#0d0887"
            ],
            [
             0.1111111111111111,
             "#46039f"
            ],
            [
             0.2222222222222222,
             "#7201a8"
            ],
            [
             0.3333333333333333,
             "#9c179e"
            ],
            [
             0.4444444444444444,
             "#bd3786"
            ],
            [
             0.5555555555555556,
             "#d8576b"
            ],
            [
             0.6666666666666666,
             "#ed7953"
            ],
            [
             0.7777777777777778,
             "#fb9f3a"
            ],
            [
             0.8888888888888888,
             "#fdca26"
            ],
            [
             1,
             "#f0f921"
            ]
           ],
           "sequentialminus": [
            [
             0,
             "#0d0887"
            ],
            [
             0.1111111111111111,
             "#46039f"
            ],
            [
             0.2222222222222222,
             "#7201a8"
            ],
            [
             0.3333333333333333,
             "#9c179e"
            ],
            [
             0.4444444444444444,
             "#bd3786"
            ],
            [
             0.5555555555555556,
             "#d8576b"
            ],
            [
             0.6666666666666666,
             "#ed7953"
            ],
            [
             0.7777777777777778,
             "#fb9f3a"
            ],
            [
             0.8888888888888888,
             "#fdca26"
            ],
            [
             1,
             "#f0f921"
            ]
           ]
          },
          "colorway": [
           "#636efa",
           "#EF553B",
           "#00cc96",
           "#ab63fa",
           "#FFA15A",
           "#19d3f3",
           "#FF6692",
           "#B6E880",
           "#FF97FF",
           "#FECB52"
          ],
          "font": {
           "color": "#2a3f5f"
          },
          "geo": {
           "bgcolor": "white",
           "lakecolor": "white",
           "landcolor": "#E5ECF6",
           "showlakes": true,
           "showland": true,
           "subunitcolor": "white"
          },
          "hoverlabel": {
           "align": "left"
          },
          "hovermode": "closest",
          "mapbox": {
           "style": "light"
          },
          "paper_bgcolor": "white",
          "plot_bgcolor": "#E5ECF6",
          "polar": {
           "angularaxis": {
            "gridcolor": "white",
            "linecolor": "white",
            "ticks": ""
           },
           "bgcolor": "#E5ECF6",
           "radialaxis": {
            "gridcolor": "white",
            "linecolor": "white",
            "ticks": ""
           }
          },
          "scene": {
           "xaxis": {
            "backgroundcolor": "#E5ECF6",
            "gridcolor": "white",
            "gridwidth": 2,
            "linecolor": "white",
            "showbackground": true,
            "ticks": "",
            "zerolinecolor": "white"
           },
           "yaxis": {
            "backgroundcolor": "#E5ECF6",
            "gridcolor": "white",
            "gridwidth": 2,
            "linecolor": "white",
            "showbackground": true,
            "ticks": "",
            "zerolinecolor": "white"
           },
           "zaxis": {
            "backgroundcolor": "#E5ECF6",
            "gridcolor": "white",
            "gridwidth": 2,
            "linecolor": "white",
            "showbackground": true,
            "ticks": "",
            "zerolinecolor": "white"
           }
          },
          "shapedefaults": {
           "line": {
            "color": "#2a3f5f"
           }
          },
          "ternary": {
           "aaxis": {
            "gridcolor": "white",
            "linecolor": "white",
            "ticks": ""
           },
           "baxis": {
            "gridcolor": "white",
            "linecolor": "white",
            "ticks": ""
           },
           "bgcolor": "#E5ECF6",
           "caxis": {
            "gridcolor": "white",
            "linecolor": "white",
            "ticks": ""
           }
          },
          "title": {
           "x": 0.05
          },
          "xaxis": {
           "automargin": true,
           "gridcolor": "white",
           "linecolor": "white",
           "ticks": "",
           "title": {
            "standoff": 15
           },
           "zerolinecolor": "white",
           "zerolinewidth": 2
          },
          "yaxis": {
           "automargin": true,
           "gridcolor": "white",
           "linecolor": "white",
           "ticks": "",
           "title": {
            "standoff": 15
           },
           "zerolinecolor": "white",
           "zerolinewidth": 2
          }
         }
        },
        "title": {
         "text": "Problem 4 Sum"
        },
        "xaxis": {
         "anchor": "y",
         "domain": [
          0,
          1
         ],
         "title": {
          "text": "t"
         }
        },
        "yaxis": {
         "anchor": "x",
         "domain": [
          0,
          1
         ],
         "showexponent": "all",
         "title": {
          "text": "Sum"
         }
        }
       }
      }
     },
     "metadata": {},
     "output_type": "display_data"
    }
   ],
   "source": [
    "fig = px.line(x = t,y = S)\n",
    "fig.update_layout(\n",
    "    title=\"Problem 4 Sum\",\n",
    "    xaxis_title=\"t\",\n",
    "    yaxis_title=\"Sum\",\n",
    "    yaxis = dict(\n",
    "    showexponent = 'all',\n",
    "    #exponentformat = 'e')\n",
    "    )\n",
    ")\n",
    "fig.show()"
   ]
  },
  {
   "cell_type": "code",
   "execution_count": null,
   "metadata": {},
   "outputs": [],
   "source": []
  },
  {
   "cell_type": "markdown",
   "metadata": {},
   "source": [
    "***Part b***"
   ]
  },
  {
   "cell_type": "code",
   "execution_count": 41,
   "metadata": {},
   "outputs": [
    {
     "name": "stdout",
     "output_type": "stream",
     "text": [
      "[0.         0.12822827 0.25645654 0.38468481 0.51291309 0.64114136\n",
      " 0.76936963 0.8975979  1.02582617 1.15405444 1.28228272 1.41051099\n",
      " 1.53873926 1.66696753 1.7951958  1.92342407 2.05165235 2.17988062\n",
      " 2.30810889 2.43633716 2.56456543 2.6927937  2.82102197 2.94925025\n",
      " 3.07747852 3.20570679 3.33393506 3.46216333 3.5903916  3.71861988\n",
      " 3.84684815 3.97507642 4.10330469 4.23153296 4.35976123 4.48798951\n",
      " 4.61621778 4.74444605 4.87267432 5.00090259 5.12913086 5.25735913\n",
      " 5.38558741 5.51381568 5.64204395 5.77027222 5.89850049 6.02672876\n",
      " 6.15495704 6.28318531]\n"
     ]
    }
   ],
   "source": [
    "theta = np.linspace(0, 2* np.pi)\n",
    "print(theta)"
   ]
  },
  {
   "cell_type": "code",
   "execution_count": 54,
   "metadata": {},
   "outputs": [
    {
     "data": {
      "application/vnd.plotly.v1+json": {
       "config": {
        "plotlyServerURL": "https://plot.ly"
       },
       "data": [
        {
         "hovertemplate": "x=%{x}<br>y=%{y}<extra></extra>",
         "legendgroup": "",
         "line": {
          "color": "#636efa",
          "dash": "solid"
         },
         "marker": {
          "symbol": "circle"
         },
         "mode": "lines",
         "name": "",
         "orientation": "v",
         "showlegend": false,
         "type": "scatter",
         "x": [
          1.2,
          1.3018396497011848,
          1.0855104760239644,
          1.0577175901660738,
          1.1488004392191347,
          0.9433126907640828,
          0.7883042703517933,
          0.8066834369613897,
          0.6416730529850723,
          0.4371909671070568,
          0.35424596178610923,
          0.20569766891550412,
          0.035051864312803604,
          -0.11375413284808594,
          -0.2930581450946307,
          -0.39182902240413264,
          -0.5218480656311885,
          -0.7523563741761021,
          -0.8015921324017076,
          -0.8301820545137075,
          -1.0756709183231998,
          -1.1280725304309847,
          -1.0255064643009442,
          -1.2077482259351742,
          -1.2957529260288068,
          -1.0993160165720013,
          -1.1479937508433813,
          -1.252227328524661,
          -1.0342527525348213,
          -0.9357405334172165,
          -0.9972882455722145,
          -0.8119300042254536,
          -0.6207236101171049,
          -0.5882438309468158,
          -0.43704710820700676,
          -0.24099209640052396,
          -0.11670112933035072,
          0.04187192185916859,
          0.1773420791646055,
          0.32862024612836793,
          0.5342890563866873,
          0.6024691109601876,
          0.6896920874995704,
          0.9357341698827515,
          0.9800800017190142,
          0.9423644506769991,
          1.1668826274643778,
          1.2359971952697073,
          1.0784563834746064,
          1.1999999999999986
         ],
         "xaxis": "x",
         "y": [
          0,
          0.16785363539847845,
          0.28465436822459383,
          0.4282223931373781,
          0.6469923537815279,
          0.7040125579309929,
          0.7634301129044629,
          1.0115490349990146,
          1.0585068170711844,
          0.9876220101040684,
          1.1935721933099774,
          1.2723128145023748,
          1.093046205119277,
          1.179180584847359,
          1.2839716266923336,
          1.0647260331102566,
          1.000285041871452,
          1.078559438448511,
          0.8826420235960395,
          0.706744287097339,
          0.7001841748347436,
          0.5432510988295459,
          0.3404916050036225,
          0.23520894593252198,
          0.08319009798974845,
          -0.0705784299639626,
          -0.22357176295077105,
          -0.41576811825306675,
          -0.49806987505259376,
          -0.6090995880705727,
          -0.8490038616413528,
          -0.8940251693847185,
          -0.8898539725841825,
          -1.1275532934237475,
          -1.18759817980917,
          -1.055855362544043,
          -1.2097292862307152,
          -1.305720713762374,
          -1.0969234656923073,
          -1.1072306539780068,
          -1.2069682851338817,
          -0.993835814141647,
          -0.8648465229242568,
          -0.9062080085439043,
          -0.7314527152479264,
          -0.5307297710279236,
          -0.4724184185731201,
          -0.3241166331582255,
          -0.1390515526443367,
          -2.939152317953644e-16
         ],
         "yaxis": "y"
        }
       ],
       "layout": {
        "height": 500,
        "legend": {
         "tracegroupgap": 0
        },
        "margin": {
         "t": 60
        },
        "template": {
         "data": {
          "bar": [
           {
            "error_x": {
             "color": "#2a3f5f"
            },
            "error_y": {
             "color": "#2a3f5f"
            },
            "marker": {
             "line": {
              "color": "#E5ECF6",
              "width": 0.5
             },
             "pattern": {
              "fillmode": "overlay",
              "size": 10,
              "solidity": 0.2
             }
            },
            "type": "bar"
           }
          ],
          "barpolar": [
           {
            "marker": {
             "line": {
              "color": "#E5ECF6",
              "width": 0.5
             },
             "pattern": {
              "fillmode": "overlay",
              "size": 10,
              "solidity": 0.2
             }
            },
            "type": "barpolar"
           }
          ],
          "carpet": [
           {
            "aaxis": {
             "endlinecolor": "#2a3f5f",
             "gridcolor": "white",
             "linecolor": "white",
             "minorgridcolor": "white",
             "startlinecolor": "#2a3f5f"
            },
            "baxis": {
             "endlinecolor": "#2a3f5f",
             "gridcolor": "white",
             "linecolor": "white",
             "minorgridcolor": "white",
             "startlinecolor": "#2a3f5f"
            },
            "type": "carpet"
           }
          ],
          "choropleth": [
           {
            "colorbar": {
             "outlinewidth": 0,
             "ticks": ""
            },
            "type": "choropleth"
           }
          ],
          "contour": [
           {
            "colorbar": {
             "outlinewidth": 0,
             "ticks": ""
            },
            "colorscale": [
             [
              0,
              "#0d0887"
             ],
             [
              0.1111111111111111,
              "#46039f"
             ],
             [
              0.2222222222222222,
              "#7201a8"
             ],
             [
              0.3333333333333333,
              "#9c179e"
             ],
             [
              0.4444444444444444,
              "#bd3786"
             ],
             [
              0.5555555555555556,
              "#d8576b"
             ],
             [
              0.6666666666666666,
              "#ed7953"
             ],
             [
              0.7777777777777778,
              "#fb9f3a"
             ],
             [
              0.8888888888888888,
              "#fdca26"
             ],
             [
              1,
              "#f0f921"
             ]
            ],
            "type": "contour"
           }
          ],
          "contourcarpet": [
           {
            "colorbar": {
             "outlinewidth": 0,
             "ticks": ""
            },
            "type": "contourcarpet"
           }
          ],
          "heatmap": [
           {
            "colorbar": {
             "outlinewidth": 0,
             "ticks": ""
            },
            "colorscale": [
             [
              0,
              "#0d0887"
             ],
             [
              0.1111111111111111,
              "#46039f"
             ],
             [
              0.2222222222222222,
              "#7201a8"
             ],
             [
              0.3333333333333333,
              "#9c179e"
             ],
             [
              0.4444444444444444,
              "#bd3786"
             ],
             [
              0.5555555555555556,
              "#d8576b"
             ],
             [
              0.6666666666666666,
              "#ed7953"
             ],
             [
              0.7777777777777778,
              "#fb9f3a"
             ],
             [
              0.8888888888888888,
              "#fdca26"
             ],
             [
              1,
              "#f0f921"
             ]
            ],
            "type": "heatmap"
           }
          ],
          "heatmapgl": [
           {
            "colorbar": {
             "outlinewidth": 0,
             "ticks": ""
            },
            "colorscale": [
             [
              0,
              "#0d0887"
             ],
             [
              0.1111111111111111,
              "#46039f"
             ],
             [
              0.2222222222222222,
              "#7201a8"
             ],
             [
              0.3333333333333333,
              "#9c179e"
             ],
             [
              0.4444444444444444,
              "#bd3786"
             ],
             [
              0.5555555555555556,
              "#d8576b"
             ],
             [
              0.6666666666666666,
              "#ed7953"
             ],
             [
              0.7777777777777778,
              "#fb9f3a"
             ],
             [
              0.8888888888888888,
              "#fdca26"
             ],
             [
              1,
              "#f0f921"
             ]
            ],
            "type": "heatmapgl"
           }
          ],
          "histogram": [
           {
            "marker": {
             "pattern": {
              "fillmode": "overlay",
              "size": 10,
              "solidity": 0.2
             }
            },
            "type": "histogram"
           }
          ],
          "histogram2d": [
           {
            "colorbar": {
             "outlinewidth": 0,
             "ticks": ""
            },
            "colorscale": [
             [
              0,
              "#0d0887"
             ],
             [
              0.1111111111111111,
              "#46039f"
             ],
             [
              0.2222222222222222,
              "#7201a8"
             ],
             [
              0.3333333333333333,
              "#9c179e"
             ],
             [
              0.4444444444444444,
              "#bd3786"
             ],
             [
              0.5555555555555556,
              "#d8576b"
             ],
             [
              0.6666666666666666,
              "#ed7953"
             ],
             [
              0.7777777777777778,
              "#fb9f3a"
             ],
             [
              0.8888888888888888,
              "#fdca26"
             ],
             [
              1,
              "#f0f921"
             ]
            ],
            "type": "histogram2d"
           }
          ],
          "histogram2dcontour": [
           {
            "colorbar": {
             "outlinewidth": 0,
             "ticks": ""
            },
            "colorscale": [
             [
              0,
              "#0d0887"
             ],
             [
              0.1111111111111111,
              "#46039f"
             ],
             [
              0.2222222222222222,
              "#7201a8"
             ],
             [
              0.3333333333333333,
              "#9c179e"
             ],
             [
              0.4444444444444444,
              "#bd3786"
             ],
             [
              0.5555555555555556,
              "#d8576b"
             ],
             [
              0.6666666666666666,
              "#ed7953"
             ],
             [
              0.7777777777777778,
              "#fb9f3a"
             ],
             [
              0.8888888888888888,
              "#fdca26"
             ],
             [
              1,
              "#f0f921"
             ]
            ],
            "type": "histogram2dcontour"
           }
          ],
          "mesh3d": [
           {
            "colorbar": {
             "outlinewidth": 0,
             "ticks": ""
            },
            "type": "mesh3d"
           }
          ],
          "parcoords": [
           {
            "line": {
             "colorbar": {
              "outlinewidth": 0,
              "ticks": ""
             }
            },
            "type": "parcoords"
           }
          ],
          "pie": [
           {
            "automargin": true,
            "type": "pie"
           }
          ],
          "scatter": [
           {
            "fillpattern": {
             "fillmode": "overlay",
             "size": 10,
             "solidity": 0.2
            },
            "type": "scatter"
           }
          ],
          "scatter3d": [
           {
            "line": {
             "colorbar": {
              "outlinewidth": 0,
              "ticks": ""
             }
            },
            "marker": {
             "colorbar": {
              "outlinewidth": 0,
              "ticks": ""
             }
            },
            "type": "scatter3d"
           }
          ],
          "scattercarpet": [
           {
            "marker": {
             "colorbar": {
              "outlinewidth": 0,
              "ticks": ""
             }
            },
            "type": "scattercarpet"
           }
          ],
          "scattergeo": [
           {
            "marker": {
             "colorbar": {
              "outlinewidth": 0,
              "ticks": ""
             }
            },
            "type": "scattergeo"
           }
          ],
          "scattergl": [
           {
            "marker": {
             "colorbar": {
              "outlinewidth": 0,
              "ticks": ""
             }
            },
            "type": "scattergl"
           }
          ],
          "scattermapbox": [
           {
            "marker": {
             "colorbar": {
              "outlinewidth": 0,
              "ticks": ""
             }
            },
            "type": "scattermapbox"
           }
          ],
          "scatterpolar": [
           {
            "marker": {
             "colorbar": {
              "outlinewidth": 0,
              "ticks": ""
             }
            },
            "type": "scatterpolar"
           }
          ],
          "scatterpolargl": [
           {
            "marker": {
             "colorbar": {
              "outlinewidth": 0,
              "ticks": ""
             }
            },
            "type": "scatterpolargl"
           }
          ],
          "scatterternary": [
           {
            "marker": {
             "colorbar": {
              "outlinewidth": 0,
              "ticks": ""
             }
            },
            "type": "scatterternary"
           }
          ],
          "surface": [
           {
            "colorbar": {
             "outlinewidth": 0,
             "ticks": ""
            },
            "colorscale": [
             [
              0,
              "#0d0887"
             ],
             [
              0.1111111111111111,
              "#46039f"
             ],
             [
              0.2222222222222222,
              "#7201a8"
             ],
             [
              0.3333333333333333,
              "#9c179e"
             ],
             [
              0.4444444444444444,
              "#bd3786"
             ],
             [
              0.5555555555555556,
              "#d8576b"
             ],
             [
              0.6666666666666666,
              "#ed7953"
             ],
             [
              0.7777777777777778,
              "#fb9f3a"
             ],
             [
              0.8888888888888888,
              "#fdca26"
             ],
             [
              1,
              "#f0f921"
             ]
            ],
            "type": "surface"
           }
          ],
          "table": [
           {
            "cells": {
             "fill": {
              "color": "#EBF0F8"
             },
             "line": {
              "color": "white"
             }
            },
            "header": {
             "fill": {
              "color": "#C8D4E3"
             },
             "line": {
              "color": "white"
             }
            },
            "type": "table"
           }
          ]
         },
         "layout": {
          "annotationdefaults": {
           "arrowcolor": "#2a3f5f",
           "arrowhead": 0,
           "arrowwidth": 1
          },
          "autotypenumbers": "strict",
          "coloraxis": {
           "colorbar": {
            "outlinewidth": 0,
            "ticks": ""
           }
          },
          "colorscale": {
           "diverging": [
            [
             0,
             "#8e0152"
            ],
            [
             0.1,
             "#c51b7d"
            ],
            [
             0.2,
             "#de77ae"
            ],
            [
             0.3,
             "#f1b6da"
            ],
            [
             0.4,
             "#fde0ef"
            ],
            [
             0.5,
             "#f7f7f7"
            ],
            [
             0.6,
             "#e6f5d0"
            ],
            [
             0.7,
             "#b8e186"
            ],
            [
             0.8,
             "#7fbc41"
            ],
            [
             0.9,
             "#4d9221"
            ],
            [
             1,
             "#276419"
            ]
           ],
           "sequential": [
            [
             0,
             "#0d0887"
            ],
            [
             0.1111111111111111,
             "#46039f"
            ],
            [
             0.2222222222222222,
             "#7201a8"
            ],
            [
             0.3333333333333333,
             "#9c179e"
            ],
            [
             0.4444444444444444,
             "#bd3786"
            ],
            [
             0.5555555555555556,
             "#d8576b"
            ],
            [
             0.6666666666666666,
             "#ed7953"
            ],
            [
             0.7777777777777778,
             "#fb9f3a"
            ],
            [
             0.8888888888888888,
             "#fdca26"
            ],
            [
             1,
             "#f0f921"
            ]
           ],
           "sequentialminus": [
            [
             0,
             "#0d0887"
            ],
            [
             0.1111111111111111,
             "#46039f"
            ],
            [
             0.2222222222222222,
             "#7201a8"
            ],
            [
             0.3333333333333333,
             "#9c179e"
            ],
            [
             0.4444444444444444,
             "#bd3786"
            ],
            [
             0.5555555555555556,
             "#d8576b"
            ],
            [
             0.6666666666666666,
             "#ed7953"
            ],
            [
             0.7777777777777778,
             "#fb9f3a"
            ],
            [
             0.8888888888888888,
             "#fdca26"
            ],
            [
             1,
             "#f0f921"
            ]
           ]
          },
          "colorway": [
           "#636efa",
           "#EF553B",
           "#00cc96",
           "#ab63fa",
           "#FFA15A",
           "#19d3f3",
           "#FF6692",
           "#B6E880",
           "#FF97FF",
           "#FECB52"
          ],
          "font": {
           "color": "#2a3f5f"
          },
          "geo": {
           "bgcolor": "white",
           "lakecolor": "white",
           "landcolor": "#E5ECF6",
           "showlakes": true,
           "showland": true,
           "subunitcolor": "white"
          },
          "hoverlabel": {
           "align": "left"
          },
          "hovermode": "closest",
          "mapbox": {
           "style": "light"
          },
          "paper_bgcolor": "white",
          "plot_bgcolor": "#E5ECF6",
          "polar": {
           "angularaxis": {
            "gridcolor": "white",
            "linecolor": "white",
            "ticks": ""
           },
           "bgcolor": "#E5ECF6",
           "radialaxis": {
            "gridcolor": "white",
            "linecolor": "white",
            "ticks": ""
           }
          },
          "scene": {
           "xaxis": {
            "backgroundcolor": "#E5ECF6",
            "gridcolor": "white",
            "gridwidth": 2,
            "linecolor": "white",
            "showbackground": true,
            "ticks": "",
            "zerolinecolor": "white"
           },
           "yaxis": {
            "backgroundcolor": "#E5ECF6",
            "gridcolor": "white",
            "gridwidth": 2,
            "linecolor": "white",
            "showbackground": true,
            "ticks": "",
            "zerolinecolor": "white"
           },
           "zaxis": {
            "backgroundcolor": "#E5ECF6",
            "gridcolor": "white",
            "gridwidth": 2,
            "linecolor": "white",
            "showbackground": true,
            "ticks": "",
            "zerolinecolor": "white"
           }
          },
          "shapedefaults": {
           "line": {
            "color": "#2a3f5f"
           }
          },
          "ternary": {
           "aaxis": {
            "gridcolor": "white",
            "linecolor": "white",
            "ticks": ""
           },
           "baxis": {
            "gridcolor": "white",
            "linecolor": "white",
            "ticks": ""
           },
           "bgcolor": "#E5ECF6",
           "caxis": {
            "gridcolor": "white",
            "linecolor": "white",
            "ticks": ""
           }
          },
          "title": {
           "x": 0.05
          },
          "xaxis": {
           "automargin": true,
           "gridcolor": "white",
           "linecolor": "white",
           "ticks": "",
           "title": {
            "standoff": 15
           },
           "zerolinecolor": "white",
           "zerolinewidth": 2
          },
          "yaxis": {
           "automargin": true,
           "gridcolor": "white",
           "linecolor": "white",
           "ticks": "",
           "title": {
            "standoff": 15
           },
           "zerolinecolor": "white",
           "zerolinewidth": 2
          }
         }
        },
        "title": {
         "text": "Problem 4 - 1 Circle"
        },
        "width": 500,
        "xaxis": {
         "anchor": "y",
         "domain": [
          0,
          1
         ],
         "title": {
          "text": "x"
         }
        },
        "yaxis": {
         "anchor": "x",
         "domain": [
          0,
          1
         ],
         "showexponent": "all",
         "title": {
          "text": "y"
         }
        }
       }
      }
     },
     "metadata": {},
     "output_type": "display_data"
    }
   ],
   "source": [
    "R = 1.2\n",
    "deltar = 0.1\n",
    "f = 15\n",
    "p = 0\n",
    "x = R * (1 + deltar * np.sin(f*theta + p)) * np.cos(theta)\n",
    "y = R * (1 + deltar * np.sin(f*theta + p)) * np.sin(theta)\n",
    "fig = px.line(x = x, y = y, width = 500, height = 500)\n",
    "fig.update_layout(\n",
    "    title=\"Problem 4 - 1 Circle\",\n",
    "    xaxis_title=\"x\",\n",
    "    yaxis_title=\"y\",\n",
    "    \n",
    "    yaxis = dict(\n",
    "    showexponent = 'all',\n",
    "    #exponentformat = 'e')\n",
    "    )\n",
    "    )\n",
    "fig.show()"
   ]
  },
  {
   "cell_type": "code",
   "execution_count": 66,
   "metadata": {},
   "outputs": [
    {
     "name": "stderr",
     "output_type": "stream",
     "text": [
      "c:\\ProgramData\\anaconda3\\lib\\site-packages\\plotly\\graph_objs\\_deprecations.py:378: DeprecationWarning:\n",
      "\n",
      "plotly.graph_objs.Line is deprecated.\n",
      "Please replace it with one of the following more specific types\n",
      "  - plotly.graph_objs.scatter.Line\n",
      "  - plotly.graph_objs.layout.shape.Line\n",
      "  - etc.\n",
      "\n",
      "\n"
     ]
    },
    {
     "data": {
      "application/vnd.plotly.v1+json": {
       "config": {
        "plotlyServerURL": "https://plot.ly"
       },
       "data": [
        {
         "line": {
          "color": "rgb(102, 197, 204)"
         },
         "name": "i = 1",
         "type": "scatter",
         "x": [
          1.029606617699807,
          1.0340037128702395,
          1.0149809145437299,
          0.9721760747742589,
          0.9072346995856636,
          0.823522790529692,
          0.7254773528968546,
          0.6177583210598433,
          0.5044144921176119,
          0.38827033518539916,
          0.2706818251396899,
          0.15171293333361674,
          0.030675001790974658,
          -0.09312286353881813,
          -0.21961878071932855,
          -0.3474458064698955,
          -0.47373685868938564,
          -0.5943483062280989,
          -0.7044545125940714,
          -0.7993684751682022,
          -0.8753836770214469,
          -0.9304249085524909,
          -0.9643431094705508,
          -0.97877914383932,
          -0.9766307997245587,
          -0.9612581087853791,
          -0.935628405485274,
          -0.9016173383462907,
          -0.8596414952708359,
          -0.8087128225083664,
          -0.7468965591704338,
          -0.6720508316577688,
          -0.5826539445378633,
          -0.478503252161337,
          -0.36110292868403576,
          -0.2336383038213553,
          -0.10054096491303677,
          0.033245913401643706,
          0.16311567277765363,
          0.28554465969316073,
          0.39854887860375365,
          0.5017380109368273,
          0.5959585496043601,
          0.682624498373997,
          0.7629153985683663,
          0.837056364918823,
          0.9038742733048726,
          0.9607534618903919,
          1.004011443756909,
          1.029606617699807
         ],
         "y": [
          0,
          0.1333200154570743,
          0.26615933919654544,
          0.3935904717490523,
          0.5109450638060211,
          0.6146110319004233,
          0.7025856363615939,
          0.7746444328701461,
          0.8320844642799929,
          0.8771094504468199,
          0.9120168881874212,
          0.938398136565154,
          0.9565595142225993,
          0.9653158961442696,
          0.962212748058336,
          0.944122497546736,
          0.9080648655025715,
          0.8520429910761351,
          0.7756827086918006,
          0.6805123045471827,
          0.5698116283691352,
          0.44806902066519566,
          0.3201839720646114,
          0.19061722118856558,
          0.06270177770533254,
          -0.06171481820101042,
          -0.18221361564685,
          -0.2993575811751607,
          -0.4139815253961866,
          -0.5264137113504814,
          -0.6358423111850668,
          -0.7400026547622713,
          -0.8352782441947818,
          -0.9172011494282379,
          -0.981233310496587,
          -1.023636292102632,
          -1.042212276942923,
          -1.0367300054313353,
          -1.0089281119001714,
          -0.9620947096743505,
          -0.9003288590703578,
          -0.827669328624159,
          -0.747308384094859,
          -0.6610849610550106,
          -0.5693785597181003,
          -0.471421362055499,
          -0.36593813699283273,
          -0.2519392265247604,
          -0.12945294057909168,
          -2.5218088974940026e-16
         ]
        },
        {
         "line": {
          "color": "rgb(246, 207, 113)"
         },
         "name": "i = 2",
         "type": "scatter",
         "x": [
          2.099336329276104,
          2.075020870633637,
          1.9939148687019825,
          1.8674405375726322,
          1.7114883919056598,
          1.5411360992903194,
          1.3660164982903409,
          1.188066409490177,
          1.0024335899667636,
          0.8010713665973721,
          0.5775034260044931,
          0.33080750326065805,
          0.06721375911707647,
          -0.20130197933036129,
          -0.4608247737895573,
          -0.700126985365102,
          -0.9142008586695487,
          -1.1052244675887632,
          -1.2805276087974409,
          -1.4483463138916581,
          -1.6130694279796292,
          -1.7719193132928164,
          -1.9144707712725808,
          -2.0253064833807617,
          -2.08886936927747,
          -2.0946923995331446,
          -2.041014709467662,
          -1.9354002996408584,
          -1.7921253828254387,
          -1.6273414028403372,
          -1.4538657965056374,
          -1.2775712499596166,
          -1.0966932267976401,
          -0.9042154255155106,
          -0.6922841142457395,
          -0.4568227139074418,
          -0.20047305416882097,
          0.06730804397535793,
          0.3330034085472707,
          0.583488453459019,
          0.8103398934030007,
          1.012214142599406,
          1.1942894450489734,
          1.364957753046438,
          1.5310788592812343,
          1.6937177147014517,
          1.846128886502888,
          1.9748866970644325,
          2.06382518030684,
          2.099336329276104
         ],
         "y": [
          0,
          0.26754431449642674,
          0.5228660522217352,
          0.7560428827845678,
          0.9638923048301365,
          1.1501797633002668,
          1.3229132059043167,
          1.4897881560100183,
          1.6536190567841167,
          1.8096341709685322,
          1.9458006729132395,
          2.0461613772831018,
          2.0959725188678666,
          2.086705597190973,
          2.0190052531440292,
          1.9024711932450398,
          1.7523518901753954,
          1.5844223855051316,
          1.4100032101277686,
          1.2329951936638945,
          1.0499918396433874,
          0.8533113678566863,
          0.6356480903194284,
          0.3944284023082978,
          0.13410986309755282,
          -0.1344837140438514,
          -0.39748757906470084,
          -0.6425971725087248,
          -0.8630420980894568,
          -1.0592818657758063,
          -1.2376939977201282,
          -1.4067479304891366,
          -1.5721922102945862,
          -1.7332116842832626,
          -1.88115957879678,
          -2.0014710831406624,
          -2.0781129207553186,
          -2.0989126679459913,
          -2.05974382792692,
          -1.9659662163958038,
          -1.8305719344704925,
          -1.6697531013543476,
          -1.4975915957806143,
          -1.321887868313887,
          -1.1426738500078404,
          -0.9538840458844355,
          -0.7474147515067655,
          -0.5178762780135736,
          -0.2661007900788243,
          -5.141891031963469e-16
         ]
        },
        {
         "line": {
          "color": "rgb(248, 156, 116)"
         },
         "name": "i = 3",
         "type": "scatter",
         "x": [
          3.1496419430302502,
          3.088166162863615,
          2.933464199068646,
          2.723835927267335,
          2.499757770280307,
          2.285094024414952,
          2.0780195353910544,
          1.8560043626013385,
          1.5914880374252436,
          1.2691854999672192,
          0.8954335893287465,
          0.49480584500390407,
          0.096592479541951,
          -0.28054101124529696,
          -0.6365618718501441,
          -0.9860509408646427,
          -1.3446281410310534,
          -1.7140278156982787,
          -2.0750102214445723,
          -2.392914474666759,
          -2.633373831752595,
          -2.779670942073007,
          -2.841893857642198,
          -2.85230488075909,
          -2.8488522286885702,
          -2.8553666204285495,
          -2.8689823026930457,
          -2.861544461310992,
          -2.7942634622663194,
          -2.6377777551448216,
          -2.3869949500522782,
          -2.06310027866543,
          -1.7022305738740044,
          -1.3375348154239697,
          -0.9846832760885564,
          -0.6385619714001848,
          -0.2823046520507924,
          0.09724795118321139,
          0.49710596808294144,
          0.8961873348287819,
          1.2650705781419034,
          1.5816681085237563,
          1.8434119419580661,
          2.0683730054135934,
          2.284030321623344,
          2.5096048383732525,
          2.741856465634131,
          2.9526745106849654,
          3.100454936482628,
          3.1496419430302502
         ],
         "y": [
          0,
          0.3981749344246875,
          0.7692449006608343,
          1.1027589501511914,
          1.4078373479528359,
          1.705409992881706,
          2.0124496951073296,
          2.3273558572310256,
          2.625325980365036,
          2.8671121523094465,
          3.0170128906757974,
          3.0605491088367502,
          3.0121092066371236,
          2.9081010547166692,
          2.788959787573299,
          2.679418947248391,
          2.577400406238844,
          2.4571877661156725,
          2.284816862349736,
          2.0371177927640187,
          1.7141364073422771,
          1.338618974339173,
          0.9435737701547684,
          0.555486325771298,
          0.18290238154372232,
          -0.1833206193700114,
          -0.5587342534020074,
          -0.9500982200879401,
          -1.3456463616887075,
          -1.7170030437957624,
          -2.0320784279874946,
          -2.27170269172533,
          -2.440275532825741,
          -2.5638038290563485,
          -2.675702560231588,
          -2.797722796265592,
          -2.926383036605265,
          -3.032549226136538,
          -3.074776183376899,
          -3.019552509377847,
          -2.857816472228434,
          -2.609126980520769,
          -2.3115654611891983,
          -2.0031075517918557,
          -1.7046161308563894,
          -1.4133831133841546,
          -1.1100546575657229,
          -0.7742824375960595,
          -0.39975939632597957,
          -7.714397847984492e-16
         ]
        },
        {
         "line": {
          "color": "rgb(220, 176, 242)"
         },
         "name": "i = 4",
         "type": "scatter",
         "x": [
          4.17886460348126,
          4.156334073490795,
          3.961238155467872,
          3.657606556651753,
          3.334742465866147,
          3.0500183247036454,
          2.797075655579011,
          2.519870541733217,
          2.1595991370730157,
          1.6988214815057026,
          1.1713671026004557,
          0.6337809480088319,
          0.12312740196076159,
          -0.3650102977831179,
          -0.8618142458230976,
          -1.3870551883066775,
          -1.919680385686887,
          -2.402752452061085,
          -2.781092106468416,
          -3.0431987687469135,
          -3.233716675612703,
          -3.4237021904438203,
          -3.65789636186723,
          -3.9169861875434697,
          -4.123721991479394,
          -4.190745069700298,
          -4.077619606561204,
          -3.8172964653207457,
          -3.4936638931101993,
          -3.186453095211013,
          -2.9223774185617057,
          -2.6657443737499507,
          -2.3525073886766474,
          -1.9406778870148593,
          -1.4399111802883209,
          -0.900640061652484,
          -0.37438538117309317,
          0.12203087193489945,
          0.6103540446181239,
          1.1210982787006454,
          1.655492219373905,
          2.171463077758661,
          2.6071113579995355,
          2.9250436719707773,
          3.1429924246513914,
          3.3247514312507995,
          3.5348024792947426,
          3.7882115441882247,
          4.032850822979138,
          4.17886460348126
         ],
         "y": [
          0,
          0.5358999353922979,
          1.0387589704910127,
          1.4808007802899983,
          1.8780919675766243,
          2.2762878349190268,
          2.7088167143735826,
          3.159817715378085,
          3.562484661150348,
          3.837667318414163,
          3.946724458827133,
          3.920159260872993,
          3.839565800505682,
          3.7837135727631535,
          3.775854920390619,
          3.769077030816675,
          3.679667898460156,
          3.4445263233979038,
          3.062291488946537,
          2.5907128835414075,
          2.1049162932588668,
          1.6487680772734843,
          1.2145052679293364,
          0.7628329916949087,
          0.26475173596947355,
          -0.2690547603599768,
          -0.794116347246468,
          -1.2674297486147168,
          -1.6824598575661702,
          -2.074151111752535,
          -2.4878561685130345,
          -2.935280815926579,
          -3.3724962466831587,
          -3.7199161773718377,
          -3.9127038360069117,
          -3.945961934109741,
          -3.8808961193484546,
          -3.805371956410257,
          -3.7752555799258545,
          -3.777352110601373,
          -3.739785760508032,
          -3.5820554722272155,
          -3.269214238801369,
          -2.8327468272455225,
          -2.345676209067294,
          -1.8724651217104393,
          -1.4310829195096102,
          -0.9933860498166309,
          -0.5199785333102851,
          -1.0235266321446997e-15
         ]
        },
        {
         "line": {
          "color": "rgb(135, 197, 95)"
         },
         "name": "i = 5",
         "type": "scatter",
         "x": [
          5.249957717788011,
          5.1170818174766985,
          4.787008453280686,
          4.4276874087898275,
          4.158630772250838,
          3.95890050518805,
          3.701116459901943,
          3.273295097230376,
          2.674615743902403,
          2.0032167638999776,
          1.3591287489360733,
          0.761738536763724,
          0.15833148224351853,
          -0.4947347716931345,
          -1.1682254945933486,
          -1.781890537048782,
          -2.2890380068725054,
          -2.732881580040507,
          -3.208758353540885,
          -3.761464376204027,
          -4.318040629453099,
          -4.730048461531031,
          -4.896596899659397,
          -4.857600470604075,
          -4.766976338621749,
          -4.76299475688725,
          -4.848800839479787,
          -4.889773821258214,
          -4.730048461531032,
          -4.324065924452671,
          -3.768290702979146,
          -3.2114406856245843,
          -2.730598960910752,
          -2.284891373115398,
          -1.7794075924475137,
          -1.16822549459335,
          -0.4954251132628001,
          0.1586188231109242,
          0.7623753050994516,
          1.3579935466994333,
          1.9995879004948842,
          2.670888846776161,
          3.273295097230375,
          3.706280913044546,
          3.966085140164137,
          4.162107141461484,
          4.423989215624889,
          4.778336700872753,
          5.109951508173855,
          5.249957717788011
         ],
         "y": [
          0,
          0.6597746395971792,
          1.255301443009124,
          1.79257196427878,
          2.3420972172292385,
          2.954604235202409,
          3.584331409995487,
          4.104582225392675,
          4.41205842258187,
          4.52530156359017,
          4.579355749544878,
          4.711622191610189,
          4.93735866009193,
          5.128443449246084,
          5.118330316845917,
          4.841972223772275,
          4.38765730745858,
          3.917791253569997,
          3.5331995561312595,
          3.2021813101700314,
          2.8107329700328356,
          2.2778712848029445,
          1.6257821822286638,
          0.9460176069125799,
          0.3060500352795957,
          -0.3057944092509001,
          -0.944303878904625,
          -1.6235167641189183,
          -2.277871284802943,
          -2.8146550024458565,
          -3.207992646880985,
          -3.536153101859329,
          -3.914518947397964,
          -4.379708986875389,
          -4.835225261182509,
          -5.118330316845917,
          -5.1355995617799834,
          -4.946319006448779,
          -4.715560828920435,
          -4.57553087651993,
          -4.517103897947074,
          -4.405910515955133,
          -4.104582225392675,
          -3.589332903954149,
          -2.9599662676406893,
          -2.3440550718934867,
          -1.7910747318018927,
          -1.2530274417372838,
          -0.6588552880178442,
          -1.285868782949606e-15
         ]
        },
        {
         "line": {
          "color": "rgb(158, 185, 243)"
         },
         "name": "i = 6",
         "type": "scatter",
         "x": [
          6.281872324005555,
          6.182765990859619,
          5.765735183099196,
          5.306864501492711,
          5.014004920515746,
          4.8246573962988455,
          4.501482135089518,
          3.9005779433145142,
          3.1098551963785113,
          2.3246538538718022,
          1.6316143127267047,
          0.9546853925550662,
          0.20021346321574185,
          -0.6024419138123843,
          -1.343449208513111,
          -1.9909777834980034,
          -2.6451612838548786,
          -3.400432492823845,
          -4.183547574256118,
          -4.787457691279933,
          -5.091521517008171,
          -5.217153170159987,
          -5.416961415420883,
          -5.79746510131236,
          -6.182473548620692,
          -6.283063194882925,
          -5.998980482050476,
          -5.523309378220014,
          -5.136856401219804,
          -4.920167965061974,
          -4.693909489029006,
          -4.23537014805203,
          -3.5164428165345742,
          -2.706748511276481,
          -1.96862389745584,
          -1.2988878636094163,
          -0.5887204195262602,
          0.20188342693734723,
          0.9861133153150312,
          1.674879056170271,
          2.3087599182118357,
          3.0099257820614658,
          3.800449510201689,
          4.520350905612522,
          4.975184201403249,
          5.160795106841974,
          5.294665848986517,
          5.589577666206041,
          6.008555916107663,
          6.281872324005553
         ],
         "y": [
          0,
          0.7971793981094923,
          1.5119538154131837,
          2.148511320992777,
          2.82383496266913,
          3.600735395553488,
          4.359442342098682,
          4.891170034878362,
          5.130031423569038,
          5.251433548934319,
          5.497450031774866,
          5.905066718403089,
          6.243393054041256,
          6.24494064944914,
          5.886035568389022,
          5.41012981740814,
          5.07027895634186,
          4.874775685868913,
          4.606550822409066,
          4.07562215376271,
          3.314213233167056,
          2.5124485491802866,
          1.7985551050003783,
          1.1290562273477138,
          0.396927971372645,
          -0.4033860409329817,
          -1.1683013442311578,
          -1.8338650614003322,
          -2.47377966328644,
          -3.2026744313544317,
          -3.9959834080808356,
          -4.663613235516997,
          -5.041085208709989,
          -5.188330141001614,
          -5.349387087673007,
          -5.690799559899576,
          -6.102703007157005,
          -6.295468672396431,
          -6.099459533214846,
          -5.643223308806929,
          -5.215528871422741,
          -4.965187402476915,
          -4.765612951082569,
          -4.377715727328884,
          -3.713076469872012,
          -2.906505655437838,
          -2.143572633938863,
          -1.4657598746021323,
          -0.7747174963100938,
          -1.538614966849149e-15
         ]
        },
        {
         "line": {
          "color": "rgb(254, 136, 177)"
         },
         "name": "i = 7",
         "type": "scatter",
         "x": [
          7.1264666592908705,
          7.289272545475845,
          6.922511645317021,
          6.28184428483746,
          5.805606525041381,
          5.5698612909794045,
          5.24146992541261,
          4.545258752724248,
          3.5967375772514134,
          2.6958492782772217,
          1.9309410881434292,
          1.1438782145013149,
          0.2355421474210346,
          -0.6832281864426197,
          -1.5007831558067868,
          -2.306302341466446,
          -3.2353418372202163,
          -4.18668405526934,
          -4.882648869975107,
          -5.249943489120153,
          -5.57509626448177,
          -6.147939226059407,
          -6.838052426428701,
          -7.206954465038965,
          -7.057516389770483,
          -6.702174239578256,
          -6.574497441563932,
          -6.680925054513598,
          -6.6077089265628945,
          -6.060088149617407,
          -5.2181005820692645,
          -4.47083520030192,
          -3.9268996283740134,
          -3.348635464038501,
          -2.531608264494827,
          -1.563800726378355,
          -0.6426006164846016,
          0.2154865786546622,
          1.1305570252637984,
          2.0897520269391623,
          2.9125423942707114,
          3.5320575667978376,
          4.1485066227923255,
          4.9610334112698915,
          5.826549382079538,
          6.3716932470970455,
          6.472485971445515,
          6.455130562051432,
          6.697330277722365,
          7.126466659290868
         ],
         "y": [
          0,
          0.9398476198272822,
          1.815296325967109,
          2.543236888541386,
          3.269656680597268,
          4.1568955163817645,
          5.076080553461121,
          5.699574200330457,
          5.933194836569342,
          6.089970478502084,
          6.50598126258748,
          7.07529121848217,
          7.345071522776717,
          7.08237487555306,
          6.575360631083852,
          6.266968506099526,
          6.201544584050419,
          6.001926425568745,
          5.376339044385765,
          4.46934205376548,
          3.6289855113453413,
          2.960691489241413,
          2.2703898286596886,
          1.403554256345879,
          0.4531075857406242,
          -0.43029386276877424,
          -1.2803832620568978,
          -2.2182199468346635,
          -3.1821049075006296,
          -3.9446802439170776,
          -4.44223379176387,
          -4.9228864267112415,
          -5.629505914216351,
          -6.4187072559262335,
          -6.879197483397756,
          -6.851458647642462,
          -6.661227612552004,
          -6.71966503552231,
          -6.9928949528334,
          -7.0410680130032715,
          -6.579484002098758,
          -5.8264983940822495,
          -5.20206276551263,
          -4.804492934686761,
          -4.348466817579309,
          -3.5884707828935936,
          -2.6204191534768055,
          -1.6927345728420773,
          -0.8635251160448526,
          -1.7454809167061785e-15
         ]
        },
        {
         "line": {
          "color": "rgb(201, 219, 116)"
         },
         "name": "i = 8",
         "type": "scatter",
         "x": [
          8.388981301213738,
          8.13273893869404,
          7.472221877114193,
          7.0847690955443765,
          7.033453663891074,
          6.73003993469645,
          5.857510687958343,
          4.794633413675674,
          3.97579345212198,
          3.2876147703307805,
          2.3900061667243953,
          1.293662286252056,
          0.24552199121412563,
          -0.7394718934142839,
          -1.817913372155337,
          -2.8995271234665525,
          -3.725957393317569,
          -4.36869158058764,
          -5.201871294841891,
          -6.254943195474552,
          -7.0271012353870805,
          -7.211665662271541,
          -7.229709047708086,
          -7.634721632687921,
          -8.239004798810527,
          -8.350310326457803,
          -7.8064984885645075,
          -7.2183700035910565,
          -7.047866832184283,
          -6.950409286293707,
          -6.353725397407928,
          -5.313023883119445,
          -4.348297364922624,
          -3.6401025657191055,
          -2.8753587580255977,
          -1.8503557393149397,
          -0.7541580774972119,
          0.24363861254874594,
          1.2639156462851184,
          2.3765476994828556,
          3.3521638068348927,
          4.047355393620718,
          4.744186891036687,
          5.725271144149525,
          6.710929163419693,
          7.182029353963717,
          7.196815336596331,
          7.373818517012689,
          7.955435808838949,
          8.388981301213736
         ],
         "y": [
          0,
          1.0486005683725301,
          1.9594473242255215,
          2.8683051176669947,
          3.9611673062271247,
          5.022759341407331,
          5.6726827622683365,
          6.012280134381631,
          6.558487149741657,
          7.426779032986799,
          8.052723842097066,
          8.001758664134623,
          7.656279802267195,
          7.665399734697298,
          7.9647988929921025,
          7.878951878352681,
          7.141962752468932,
          6.262847899804519,
          5.727838411298779,
          5.324910777684153,
          4.574136007738893,
          3.472955142275762,
          2.4004287862206417,
          1.4868619047834033,
          0.5289616583399618,
          -0.5361077103115739,
          -1.5203154444688316,
          -2.3966639641887775,
          -3.3940737831153696,
          -4.5242150810152015,
          -5.409005292259268,
          -5.8502297640573,
          -6.233611258034383,
          -6.977395121629246,
          -7.813278621928677,
          -8.106938190714784,
          -7.817637395892445,
          -7.597549120080913,
          -7.817765177879511,
          -8.00737780008977,
          -7.572596430826291,
          -6.676536057307412,
          -5.94902219581934,
          -5.544615905779865,
          -5.008496602124473,
          -4.044843575971732,
          -2.913667613224799,
          -1.933642924434318,
          -1.0257398612796638,
          -2.05470781972768e-15
         ]
        },
        {
         "line": {
          "color": "rgb(139, 224, 164)"
         },
         "name": "i = 9",
         "type": "scatter",
         "x": [
          9.405554984971165,
          9.181225662273894,
          8.392784118382796,
          8.008123348688766,
          8.023438520490087,
          7.554917022938281,
          6.4133577358915455,
          5.3308378580648865,
          4.628442629798855,
          3.8159579405262365,
          2.6199012474955823,
          1.3788153810926187,
          0.27810941572587977,
          -0.8889502090524518,
          -2.0928798885840068,
          -3.063974989126949,
          -3.9564274966668753,
          -5.140955108065231,
          -6.347699618331207,
          -6.971157070241174,
          -7.214071313990904,
          -7.856127961326651,
          -8.828817433802328,
          -9.20407026903467,
          -8.799479891246811,
          -8.547189729003966,
          -8.876714053705934,
          -8.967715945351364,
          -8.198696737720821,
          -7.193129640734027,
          -6.675564784017915,
          -6.281191924503627,
          -5.344984293045306,
          -4.054836700541178,
          -2.9642649882088152,
          -2.0250299410888135,
          -0.9073271181468434,
          0.2898404029431893,
          1.3669168871131774,
          2.508992276289769,
          3.795770507047213,
          4.822259875987042,
          5.436341685684241,
          6.183580889737387,
          7.337480087867233,
          8.226685440518137,
          8.328627462508003,
          8.273910878776903,
          8.79938484472494,
          9.405554984971163
         ],
         "y": [
          0,
          1.1837879612748083,
          2.200847171566972,
          3.2421298244424435,
          4.518716390221586,
          5.638381111958743,
          6.210990609277569,
          6.684659240524169,
          7.63510023254622,
          8.620315457643569,
          8.827316654401073,
          8.52846066484951,
          8.672475699276097,
          9.214898845130532,
          9.169505915452921,
          8.325809853761793,
          7.583730792176121,
          7.369945739498681,
          6.989522738349334,
          5.934632538807574,
          4.695840041915145,
          3.7833118282790505,
          2.931369350624727,
          1.7924925243357042,
          0.5649453531663251,
          -0.5487477873362689,
          -1.728739907110935,
          -2.9774868338159974,
          -3.948284256186432,
          -4.682208523242231,
          -5.6829911567004805,
          -6.916290376039582,
          -7.6624369188552635,
          -7.7723628119171115,
          -8.054865570238317,
          -8.872235872239262,
          -9.405394731926489,
          -9.038291079187399,
          -8.454864272420139,
          -8.45362752791839,
          -8.57471169377051,
          -7.954822052563089,
          -6.816956855830446,
          -5.988464143038829,
          -5.476103709834484,
          -4.6331829230488095,
          -3.3718875593105047,
          -2.169674937243856,
          -1.13455503970584,
          -2.3036965613098733e-15
         ]
        },
        {
         "line": {
          "color": "rgb(180, 151, 231)"
         },
         "name": "i = 10",
         "type": "scatter",
         "x": [
          10.432413241129145,
          10.180492395328308,
          9.271094775831232,
          8.999066760122092,
          9.058892701210267,
          8.268048669414181,
          6.913069747967336,
          6.022311408580334,
          5.3677450017311115,
          4.195050338509755,
          2.751017298973275,
          1.5345642824776817,
          0.3303429741464406,
          -0.9990796050574916,
          -2.16275423865716,
          -3.30770772589214,
          -4.742674403447936,
          -5.9722290957739315,
          -6.571437454511562,
          -7.269308986389146,
          -8.545477299745542,
          -9.429425434157913,
          -9.332510249896798,
          -9.34783169843862,
          -10.115157336293437,
          -10.463721640488277,
          -9.712649769025305,
          -9.02363380037525,
          -9.075763790487743,
          -8.797150022395401,
          -7.582860701995032,
          -6.387296135965241,
          -5.726595231063888,
          -4.85663226861577,
          -3.4614420351090955,
          -2.1142801927075605,
          -0.9549954397668313,
          0.33638183208624517,
          1.6097641866618397,
          2.7060031408810254,
          4.000220343531856,
          5.433763631143936,
          6.327499006300896,
          6.844126040891741,
          7.870839857454352,
          9.114834322275398,
          9.462294201494744,
          9.239979036937733,
          9.682799361176098,
          10.432413241129145
         ],
         "y": [
          0,
          1.3126291391529317,
          2.4311673488688745,
          3.6433183487261984,
          5.1018733204821975,
          6.170605091867648,
          6.694934705671323,
          7.551739647413348,
          8.854656822817116,
          9.476691788081276,
          9.269090139556184,
          9.49182269088337,
          10.301310396967631,
          10.35650524077275,
          9.475645445881348,
          8.988110436712105,
          9.090818912009498,
          8.561639511431942,
          7.235882961333986,
          6.188452965639296,
          5.562489298324202,
          4.540971959028614,
          3.0986068877354356,
          1.8204900602043024,
          0.6494146477190873,
          -0.6717932185401138,
          -1.8915383730870472,
          -2.9960528408264184,
          -4.370657487791306,
          -5.7263100864809475,
          -6.455383432889432,
          -7.033122904866858,
          -8.209504895073128,
          -9.309254804443269,
          -9.405856218280785,
          -9.263266774030505,
          -9.899526751214214,
          -10.48962422516969,
          -9.956960688058095,
          -9.117422504071321,
          -9.036567435691563,
          -8.963561457291155,
          -7.934432790501498,
          -6.628166448722422,
          -5.874160451104831,
          -5.133379054508463,
          -3.830858355014987,
          -2.4230078412526965,
          -1.2484587283699184,
          -2.5552042966262547e-15
         ]
        }
       ],
       "layout": {
        "height": 500,
        "template": {
         "data": {
          "bar": [
           {
            "error_x": {
             "color": "#2a3f5f"
            },
            "error_y": {
             "color": "#2a3f5f"
            },
            "marker": {
             "line": {
              "color": "#E5ECF6",
              "width": 0.5
             },
             "pattern": {
              "fillmode": "overlay",
              "size": 10,
              "solidity": 0.2
             }
            },
            "type": "bar"
           }
          ],
          "barpolar": [
           {
            "marker": {
             "line": {
              "color": "#E5ECF6",
              "width": 0.5
             },
             "pattern": {
              "fillmode": "overlay",
              "size": 10,
              "solidity": 0.2
             }
            },
            "type": "barpolar"
           }
          ],
          "carpet": [
           {
            "aaxis": {
             "endlinecolor": "#2a3f5f",
             "gridcolor": "white",
             "linecolor": "white",
             "minorgridcolor": "white",
             "startlinecolor": "#2a3f5f"
            },
            "baxis": {
             "endlinecolor": "#2a3f5f",
             "gridcolor": "white",
             "linecolor": "white",
             "minorgridcolor": "white",
             "startlinecolor": "#2a3f5f"
            },
            "type": "carpet"
           }
          ],
          "choropleth": [
           {
            "colorbar": {
             "outlinewidth": 0,
             "ticks": ""
            },
            "type": "choropleth"
           }
          ],
          "contour": [
           {
            "colorbar": {
             "outlinewidth": 0,
             "ticks": ""
            },
            "colorscale": [
             [
              0,
              "#0d0887"
             ],
             [
              0.1111111111111111,
              "#46039f"
             ],
             [
              0.2222222222222222,
              "#7201a8"
             ],
             [
              0.3333333333333333,
              "#9c179e"
             ],
             [
              0.4444444444444444,
              "#bd3786"
             ],
             [
              0.5555555555555556,
              "#d8576b"
             ],
             [
              0.6666666666666666,
              "#ed7953"
             ],
             [
              0.7777777777777778,
              "#fb9f3a"
             ],
             [
              0.8888888888888888,
              "#fdca26"
             ],
             [
              1,
              "#f0f921"
             ]
            ],
            "type": "contour"
           }
          ],
          "contourcarpet": [
           {
            "colorbar": {
             "outlinewidth": 0,
             "ticks": ""
            },
            "type": "contourcarpet"
           }
          ],
          "heatmap": [
           {
            "colorbar": {
             "outlinewidth": 0,
             "ticks": ""
            },
            "colorscale": [
             [
              0,
              "#0d0887"
             ],
             [
              0.1111111111111111,
              "#46039f"
             ],
             [
              0.2222222222222222,
              "#7201a8"
             ],
             [
              0.3333333333333333,
              "#9c179e"
             ],
             [
              0.4444444444444444,
              "#bd3786"
             ],
             [
              0.5555555555555556,
              "#d8576b"
             ],
             [
              0.6666666666666666,
              "#ed7953"
             ],
             [
              0.7777777777777778,
              "#fb9f3a"
             ],
             [
              0.8888888888888888,
              "#fdca26"
             ],
             [
              1,
              "#f0f921"
             ]
            ],
            "type": "heatmap"
           }
          ],
          "heatmapgl": [
           {
            "colorbar": {
             "outlinewidth": 0,
             "ticks": ""
            },
            "colorscale": [
             [
              0,
              "#0d0887"
             ],
             [
              0.1111111111111111,
              "#46039f"
             ],
             [
              0.2222222222222222,
              "#7201a8"
             ],
             [
              0.3333333333333333,
              "#9c179e"
             ],
             [
              0.4444444444444444,
              "#bd3786"
             ],
             [
              0.5555555555555556,
              "#d8576b"
             ],
             [
              0.6666666666666666,
              "#ed7953"
             ],
             [
              0.7777777777777778,
              "#fb9f3a"
             ],
             [
              0.8888888888888888,
              "#fdca26"
             ],
             [
              1,
              "#f0f921"
             ]
            ],
            "type": "heatmapgl"
           }
          ],
          "histogram": [
           {
            "marker": {
             "pattern": {
              "fillmode": "overlay",
              "size": 10,
              "solidity": 0.2
             }
            },
            "type": "histogram"
           }
          ],
          "histogram2d": [
           {
            "colorbar": {
             "outlinewidth": 0,
             "ticks": ""
            },
            "colorscale": [
             [
              0,
              "#0d0887"
             ],
             [
              0.1111111111111111,
              "#46039f"
             ],
             [
              0.2222222222222222,
              "#7201a8"
             ],
             [
              0.3333333333333333,
              "#9c179e"
             ],
             [
              0.4444444444444444,
              "#bd3786"
             ],
             [
              0.5555555555555556,
              "#d8576b"
             ],
             [
              0.6666666666666666,
              "#ed7953"
             ],
             [
              0.7777777777777778,
              "#fb9f3a"
             ],
             [
              0.8888888888888888,
              "#fdca26"
             ],
             [
              1,
              "#f0f921"
             ]
            ],
            "type": "histogram2d"
           }
          ],
          "histogram2dcontour": [
           {
            "colorbar": {
             "outlinewidth": 0,
             "ticks": ""
            },
            "colorscale": [
             [
              0,
              "#0d0887"
             ],
             [
              0.1111111111111111,
              "#46039f"
             ],
             [
              0.2222222222222222,
              "#7201a8"
             ],
             [
              0.3333333333333333,
              "#9c179e"
             ],
             [
              0.4444444444444444,
              "#bd3786"
             ],
             [
              0.5555555555555556,
              "#d8576b"
             ],
             [
              0.6666666666666666,
              "#ed7953"
             ],
             [
              0.7777777777777778,
              "#fb9f3a"
             ],
             [
              0.8888888888888888,
              "#fdca26"
             ],
             [
              1,
              "#f0f921"
             ]
            ],
            "type": "histogram2dcontour"
           }
          ],
          "mesh3d": [
           {
            "colorbar": {
             "outlinewidth": 0,
             "ticks": ""
            },
            "type": "mesh3d"
           }
          ],
          "parcoords": [
           {
            "line": {
             "colorbar": {
              "outlinewidth": 0,
              "ticks": ""
             }
            },
            "type": "parcoords"
           }
          ],
          "pie": [
           {
            "automargin": true,
            "type": "pie"
           }
          ],
          "scatter": [
           {
            "fillpattern": {
             "fillmode": "overlay",
             "size": 10,
             "solidity": 0.2
            },
            "type": "scatter"
           }
          ],
          "scatter3d": [
           {
            "line": {
             "colorbar": {
              "outlinewidth": 0,
              "ticks": ""
             }
            },
            "marker": {
             "colorbar": {
              "outlinewidth": 0,
              "ticks": ""
             }
            },
            "type": "scatter3d"
           }
          ],
          "scattercarpet": [
           {
            "marker": {
             "colorbar": {
              "outlinewidth": 0,
              "ticks": ""
             }
            },
            "type": "scattercarpet"
           }
          ],
          "scattergeo": [
           {
            "marker": {
             "colorbar": {
              "outlinewidth": 0,
              "ticks": ""
             }
            },
            "type": "scattergeo"
           }
          ],
          "scattergl": [
           {
            "marker": {
             "colorbar": {
              "outlinewidth": 0,
              "ticks": ""
             }
            },
            "type": "scattergl"
           }
          ],
          "scattermapbox": [
           {
            "marker": {
             "colorbar": {
              "outlinewidth": 0,
              "ticks": ""
             }
            },
            "type": "scattermapbox"
           }
          ],
          "scatterpolar": [
           {
            "marker": {
             "colorbar": {
              "outlinewidth": 0,
              "ticks": ""
             }
            },
            "type": "scatterpolar"
           }
          ],
          "scatterpolargl": [
           {
            "marker": {
             "colorbar": {
              "outlinewidth": 0,
              "ticks": ""
             }
            },
            "type": "scatterpolargl"
           }
          ],
          "scatterternary": [
           {
            "marker": {
             "colorbar": {
              "outlinewidth": 0,
              "ticks": ""
             }
            },
            "type": "scatterternary"
           }
          ],
          "surface": [
           {
            "colorbar": {
             "outlinewidth": 0,
             "ticks": ""
            },
            "colorscale": [
             [
              0,
              "#0d0887"
             ],
             [
              0.1111111111111111,
              "#46039f"
             ],
             [
              0.2222222222222222,
              "#7201a8"
             ],
             [
              0.3333333333333333,
              "#9c179e"
             ],
             [
              0.4444444444444444,
              "#bd3786"
             ],
             [
              0.5555555555555556,
              "#d8576b"
             ],
             [
              0.6666666666666666,
              "#ed7953"
             ],
             [
              0.7777777777777778,
              "#fb9f3a"
             ],
             [
              0.8888888888888888,
              "#fdca26"
             ],
             [
              1,
              "#f0f921"
             ]
            ],
            "type": "surface"
           }
          ],
          "table": [
           {
            "cells": {
             "fill": {
              "color": "#EBF0F8"
             },
             "line": {
              "color": "white"
             }
            },
            "header": {
             "fill": {
              "color": "#C8D4E3"
             },
             "line": {
              "color": "white"
             }
            },
            "type": "table"
           }
          ]
         },
         "layout": {
          "annotationdefaults": {
           "arrowcolor": "#2a3f5f",
           "arrowhead": 0,
           "arrowwidth": 1
          },
          "autotypenumbers": "strict",
          "coloraxis": {
           "colorbar": {
            "outlinewidth": 0,
            "ticks": ""
           }
          },
          "colorscale": {
           "diverging": [
            [
             0,
             "#8e0152"
            ],
            [
             0.1,
             "#c51b7d"
            ],
            [
             0.2,
             "#de77ae"
            ],
            [
             0.3,
             "#f1b6da"
            ],
            [
             0.4,
             "#fde0ef"
            ],
            [
             0.5,
             "#f7f7f7"
            ],
            [
             0.6,
             "#e6f5d0"
            ],
            [
             0.7,
             "#b8e186"
            ],
            [
             0.8,
             "#7fbc41"
            ],
            [
             0.9,
             "#4d9221"
            ],
            [
             1,
             "#276419"
            ]
           ],
           "sequential": [
            [
             0,
             "#0d0887"
            ],
            [
             0.1111111111111111,
             "#46039f"
            ],
            [
             0.2222222222222222,
             "#7201a8"
            ],
            [
             0.3333333333333333,
             "#9c179e"
            ],
            [
             0.4444444444444444,
             "#bd3786"
            ],
            [
             0.5555555555555556,
             "#d8576b"
            ],
            [
             0.6666666666666666,
             "#ed7953"
            ],
            [
             0.7777777777777778,
             "#fb9f3a"
            ],
            [
             0.8888888888888888,
             "#fdca26"
            ],
            [
             1,
             "#f0f921"
            ]
           ],
           "sequentialminus": [
            [
             0,
             "#0d0887"
            ],
            [
             0.1111111111111111,
             "#46039f"
            ],
            [
             0.2222222222222222,
             "#7201a8"
            ],
            [
             0.3333333333333333,
             "#9c179e"
            ],
            [
             0.4444444444444444,
             "#bd3786"
            ],
            [
             0.5555555555555556,
             "#d8576b"
            ],
            [
             0.6666666666666666,
             "#ed7953"
            ],
            [
             0.7777777777777778,
             "#fb9f3a"
            ],
            [
             0.8888888888888888,
             "#fdca26"
            ],
            [
             1,
             "#f0f921"
            ]
           ]
          },
          "colorway": [
           "#636efa",
           "#EF553B",
           "#00cc96",
           "#ab63fa",
           "#FFA15A",
           "#19d3f3",
           "#FF6692",
           "#B6E880",
           "#FF97FF",
           "#FECB52"
          ],
          "font": {
           "color": "#2a3f5f"
          },
          "geo": {
           "bgcolor": "white",
           "lakecolor": "white",
           "landcolor": "#E5ECF6",
           "showlakes": true,
           "showland": true,
           "subunitcolor": "white"
          },
          "hoverlabel": {
           "align": "left"
          },
          "hovermode": "closest",
          "mapbox": {
           "style": "light"
          },
          "paper_bgcolor": "white",
          "plot_bgcolor": "#E5ECF6",
          "polar": {
           "angularaxis": {
            "gridcolor": "white",
            "linecolor": "white",
            "ticks": ""
           },
           "bgcolor": "#E5ECF6",
           "radialaxis": {
            "gridcolor": "white",
            "linecolor": "white",
            "ticks": ""
           }
          },
          "scene": {
           "xaxis": {
            "backgroundcolor": "#E5ECF6",
            "gridcolor": "white",
            "gridwidth": 2,
            "linecolor": "white",
            "showbackground": true,
            "ticks": "",
            "zerolinecolor": "white"
           },
           "yaxis": {
            "backgroundcolor": "#E5ECF6",
            "gridcolor": "white",
            "gridwidth": 2,
            "linecolor": "white",
            "showbackground": true,
            "ticks": "",
            "zerolinecolor": "white"
           },
           "zaxis": {
            "backgroundcolor": "#E5ECF6",
            "gridcolor": "white",
            "gridwidth": 2,
            "linecolor": "white",
            "showbackground": true,
            "ticks": "",
            "zerolinecolor": "white"
           }
          },
          "shapedefaults": {
           "line": {
            "color": "#2a3f5f"
           }
          },
          "ternary": {
           "aaxis": {
            "gridcolor": "white",
            "linecolor": "white",
            "ticks": ""
           },
           "baxis": {
            "gridcolor": "white",
            "linecolor": "white",
            "ticks": ""
           },
           "bgcolor": "#E5ECF6",
           "caxis": {
            "gridcolor": "white",
            "linecolor": "white",
            "ticks": ""
           }
          },
          "title": {
           "x": 0.05
          },
          "xaxis": {
           "automargin": true,
           "gridcolor": "white",
           "linecolor": "white",
           "ticks": "",
           "title": {
            "standoff": 15
           },
           "zerolinecolor": "white",
           "zerolinewidth": 2
          },
          "yaxis": {
           "automargin": true,
           "gridcolor": "white",
           "linecolor": "white",
           "ticks": "",
           "title": {
            "standoff": 15
           },
           "zerolinecolor": "white",
           "zerolinewidth": 2
          }
         }
        },
        "title": {
         "text": "Problem 4 - 10 Circles"
        },
        "width": 500,
        "xaxis": {
         "title": {
          "text": "x"
         }
        },
        "yaxis": {
         "showexponent": "all",
         "title": {
          "text": "y"
         }
        }
       }
      }
     },
     "metadata": {},
     "output_type": "display_data"
    }
   ],
   "source": [
    "deltar = 0.05\n",
    "colors = px.colors.qualitative.Pastel\n",
    "tracelist = []\n",
    "\n",
    "for i in range(1,11):\n",
    "    R = i\n",
    "    f = 2+i\n",
    "    p = np.random.uniform(0,2)\n",
    "    x = R * (1 + deltar * np.sin(f*theta + p)) * np.cos(theta)\n",
    "    y = R * (1 + deltar * np.sin(f*theta + p)) * np.sin(theta)\n",
    "\n",
    "    trace = go.Line(x=x, y=y, name='i = ' + str(i), line_color = colors[i-1])\n",
    "    tracelist.extend([trace])\n",
    "\n",
    "layout = go.Layout(\n",
    "    title=\"Problem 4 - 10 Circles\",\n",
    "    xaxis_title=\"x\",\n",
    "    yaxis_title=\"y\",\n",
    "    width = 500,\n",
    "    height = 500,\n",
    "    yaxis = dict(\n",
    "    showexponent = 'all',\n",
    "    #exponentformat = 'e')\n",
    "    )\n",
    ")\n",
    "\n",
    "fig = go.Figure(data=tracelist, layout=layout)\n",
    "fig.show()\n"
   ]
  },
  {
   "cell_type": "code",
   "execution_count": null,
   "metadata": {},
   "outputs": [],
   "source": []
  }
 ],
 "metadata": {
  "kernelspec": {
   "display_name": "base",
   "language": "python",
   "name": "python3"
  },
  "language_info": {
   "codemirror_mode": {
    "name": "ipython",
    "version": 3
   },
   "file_extension": ".py",
   "mimetype": "text/x-python",
   "name": "python",
   "nbconvert_exporter": "python",
   "pygments_lexer": "ipython3",
   "version": "3.10.9"
  }
 },
 "nbformat": 4,
 "nbformat_minor": 2
}
